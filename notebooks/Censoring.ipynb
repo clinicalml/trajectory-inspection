{
 "cells": [
  {
   "cell_type": "markdown",
   "metadata": {},
   "source": [
    "# Investigating hypotheses from trajectories\n",
    "This notebook examines hypotheses generated from trajectory inspection, specifically:\n",
    "1. Why do trajectories seem to end early?\n",
    "2. Why does the model learn to use uncommonly high vasopressor doses?\n",
    "3. Why does the model learn to expect discharge while on vasopressors?\n",
    "\n",
    "This notebook generates Figures 5-6 and statistics in the Results: Investigation of questions raised by trajectory inspection section."
   ]
  },
  {
   "cell_type": "code",
   "execution_count": 1,
   "metadata": {},
   "outputs": [],
   "source": [
    "%load_ext autoreload\n",
    "%autoreload 2"
   ]
  },
  {
   "cell_type": "code",
   "execution_count": 2,
   "metadata": {},
   "outputs": [],
   "source": [
    "data_prefix = ''"
   ]
  },
  {
   "cell_type": "code",
   "execution_count": 3,
   "metadata": {},
   "outputs": [],
   "source": [
    "datapath = '<REPLACE WITH OUTPUT PATH>'\n",
    "figpath = './figs'\n",
    "import sys; sys.path.insert(0, '..')\n",
    "\n",
    "import matplotlib.pyplot as plt\n",
    "import seaborn as sns\n",
    "import pickle as pkl\n",
    "import shelve\n",
    "import numpy as np\n",
    "import pandas as pd\n",
    "from trajectoryInspection import mimic_utils as utils\n",
    "from trajectoryInspection.mimic_config import colbin, collog, colnorm, feature_vars_map\n",
    "from trajectoryInspection import mdp_utils as cf\n",
    "\n",
    "# Avoid Type 3 fonts\n",
    "import matplotlib\n",
    "matplotlib.rcParams['pdf.fonttype'] = 42\n",
    "matplotlib.rcParams['ps.fonttype'] = 42\n",
    "\n",
    "import logging as log\n",
    "import sys\n",
    "log.basicConfig(stream=sys.stdout, level=log.DEBUG)\n",
    "log.getLogger('matplotlib').setLevel(log.WARNING)\n",
    "\n",
    "from tqdm import tqdm_notebook as tqdm"
   ]
  },
  {
   "cell_type": "code",
   "execution_count": 4,
   "metadata": {},
   "outputs": [],
   "source": [
    "nact = 25\n",
    "ncl = 750\n",
    "death_state_idx = ncl\n",
    "lives_state_idx = ncl+1\n",
    "\n",
    "soften_factor = 1e-3\n",
    "\n",
    "N_HORIZON = 20\n",
    "DISCOUNT=1.\n",
    "n_mb_iter = 5\n",
    "DISCOUNT_Pol=0.99 # Used for learning policies"
   ]
  },
  {
   "cell_type": "code",
   "execution_count": 5,
   "metadata": {},
   "outputs": [],
   "source": [
    "# Read-only access to the data\n",
    "data_dict = shelve.open(\"{}/{}data_dict.db\".format(datapath,data_prefix), flag='r')\n",
    "\n",
    "traj_train = data_dict['best_results']['traj_train']\n",
    "traj_test = data_dict['traj_test']\n",
    "\n",
    "np.random.seed(0)"
   ]
  },
  {
   "cell_type": "code",
   "execution_count": 6,
   "metadata": {},
   "outputs": [],
   "source": [
    "colTime = 0\n",
    "colAction = 1\n",
    "colS0 = 2\n",
    "colS1 = 3\n",
    "colDiab = 4\n",
    "colR = 6"
   ]
  },
  {
   "cell_type": "code",
   "execution_count": 7,
   "metadata": {},
   "outputs": [],
   "source": [
    "# Used later to get per-trajectory summaries of rollouts\n",
    "def get_summary_df(traj, is_cf=False):\n",
    "    gb = ['icustayid', 'cf_index'] if is_cf else 'icustayid'\n",
    "    \n",
    "    df = traj.groupby(gb).agg(\n",
    "    {'reward': 'sum', \n",
    "     'action_idx': ['count', 'last'], \n",
    "     'from_state_idx':['first', 'last']})\n",
    "\n",
    "    df.columns = ['_'.join(col).rstrip('_') for col in df.columns.values]\n",
    "    d = dict(zip(df.columns.values, ['reward', 'traj_len', 'final_action', 'initial_state', 'final_state']))\n",
    "    df.rename(columns = d, inplace=True)\n",
    "    \n",
    "    return df"
   ]
  },
  {
   "cell_type": "markdown",
   "metadata": {},
   "source": [
    "## Generate Train / Test Trajectories\n",
    "\n",
    "For the \"best\" run of the replication script, we have a training set, a validation set, and a test set of trajectories.  For now, this just pulls the training set and the test set, leaving the validation set in storage\n",
    "\n",
    "**Notation**: We have `train_samps` and `test_samps` which are in numpy format, padded to full length, used by the MDP samplers, as well as `traj_train` and `traj_test` which are in pandas format, used by the MDP creation scripts and not padded at all.  We retain `train_idx` and `test_idx` for the patient IDs that are used to keep track when we do model-based rollouts"
   ]
  },
  {
   "cell_type": "code",
   "execution_count": 8,
   "metadata": {},
   "outputs": [],
   "source": [
    "# Keep the indices for later\n",
    "test_idx_flat = data_dict['test_idx_flat']\n",
    "test_idx = np.broadcast_to(test_idx_flat[:, np.newaxis], (test_idx_flat.shape[0], N_HORIZON))\n",
    "\n",
    "test_samps = data_dict['test_samps']"
   ]
  },
  {
   "cell_type": "code",
   "execution_count": 9,
   "metadata": {
    "scrolled": false
   },
   "outputs": [
    {
     "name": "stdout",
     "output_type": "stream",
     "text": [
      "INFO:numexpr.utils:Note: NumExpr detected 40 cores but \"NUMEXPR_MAX_THREADS\" not set, so enforcing safe limit of 8.\n",
      "INFO:numexpr.utils:NumExpr defaulting to 8 threads.\n"
     ]
    }
   ],
   "source": [
    "\"\"\"\n",
    "The \"fill in gaps\" operation is poorly named - it is designed to take the raw state / action / reward values, and convert to the (a, s, s') row-wise representation\n",
    "while returning trajectories of the same original length.  This trimming can now be turned off, and the resulting operation is idempotent\n",
    "\"\"\"\n",
    "assert np.all(traj_train == utils.fill_in_gaps(traj_train, lives_state_idx, death_state_idx, trim_length=True))\n",
    "\n",
    "# Convert trajectories to samples and retain full index\n",
    "train_samps, train_idx = utils.fill_in_gaps(traj_train, lives_state_idx, death_state_idx, \n",
    "                                            trim_length=False, return_idx=True)"
   ]
  },
  {
   "cell_type": "code",
   "execution_count": 10,
   "metadata": {},
   "outputs": [],
   "source": [
    "t_pol = data_dict['best_results']['rl_pol']\n",
    "raw_b_pol = data_dict['best_results']['obs_b']"
   ]
  },
  {
   "cell_type": "markdown",
   "metadata": {},
   "source": [
    "## Generate Model-Based Rollouts for RAW\n",
    "\n",
    "Here we generate rollouts conditioning on the training samples, using the **RAW** MDP and the **RAW** behavior policy."
   ]
  },
  {
   "cell_type": "markdown",
   "metadata": {},
   "source": [
    "*Note*: These are different from the model-based rollouts used in Section 5, because these are conditioned on the training data, as opposed to the test data"
   ]
  },
  {
   "cell_type": "markdown",
   "metadata": {},
   "source": [
    "*Note*: This code block takes some time to run, but once it is finished, we recommend commenting it out and using the code block below to re-load the results"
   ]
  },
  {
   "cell_type": "code",
   "execution_count": null,
   "metadata": {},
   "outputs": [],
   "source": [
    "np.random.seed(0)\n",
    "rawMDP_dict = mdp_dict['train_raw']\n",
    "\n",
    "# Model-based rollouts of the BEHAVIOR policy\n",
    "rawMDP_dict['train_samps_mb_b'] = rawMDP_dict['sampler'].cf_trajectory(\n",
    "    # Samples from which mb trajectories drawn\n",
    "    train_samps,\n",
    "    # Policy which is simulated\n",
    "    cf_policy=raw_b_pol,\n",
    "    n_cf_samps=n_mb_iter, use_tqdm=True,\n",
    "    use_mb=True)\n",
    "\n",
    "# Internal convention is to name samps by the set used to condition them, and then the policy, e.g.,\n",
    "# train_samps_mb_b: Condition on training initial states, model-based with behavior policy\n",
    "# test_samps_mb_t: Condition on test initial states, model-based with target policy\n",
    "\n",
    "bad_states = np.where(raw_b_pol[t_pol > 0] == 0)[0]\n",
    "print(\"There exist(s) {} state(s) where truncation (during training) removed all bpol actions\".format(bad_states.shape[0]))\n",
    "print(\"This makes up {:.5%} of total state distribution in training set\".format(\n",
    "traj_train.query('from_state_idx in @bad_states').shape[0] / traj_train.shape[0]))\n",
    "\n",
    "# Note, this was never encountered with this particular random seed for the test samples, but it is an issue for the training samples\n",
    "print(\"Replacing the learned policy with the behavior policy for those states\")\n",
    "t_pol[bad_states] = raw_b_pol[bad_states]\n",
    "\n",
    "# Model-based rollouts of the TARGET policy\n",
    "np.random.seed(0)\n",
    "rawMDP_dict['train_samps_mb_t'] = rawMDP_dict['sampler'].cf_trajectory(\n",
    "    # Samples from which mb trajectories drawn\n",
    "    train_samps,\n",
    "    # Policy which is simulated\n",
    "    cf_policy=t_pol,\n",
    "    n_cf_samps=n_mb_iter, use_tqdm=True,\n",
    "    use_mb=True)"
   ]
  },
  {
   "cell_type": "code",
   "execution_count": null,
   "metadata": {},
   "outputs": [],
   "source": [
    "# Back up our results\n",
    "mb_dict = shelve.open(\"{}/mb_samples.db\".format(datapath))\n",
    "mb_dict['mdp_dict'] = mdp_dict\n",
    "mb_dict.close()"
   ]
  },
  {
   "cell_type": "code",
   "execution_count": 11,
   "metadata": {},
   "outputs": [],
   "source": [
    "# Re-load our results\n",
    "mb_dict = shelve.open(\"{}/mb_samples.db\".format(datapath), flag='r')\n",
    "mdp_dict = mb_dict['mdp_dict']\n",
    "mb_dict.close()"
   ]
  },
  {
   "cell_type": "markdown",
   "metadata": {},
   "source": [
    "## Examine Aggregate Statistics\n",
    "\n",
    "TL;DR: We base our conclusion that our results closely mirror that of the paper on the following observations:\n",
    "* Recall that the paper did roll-outs *until a reward*, which is trickier for us to implement, as our rollouts stop at 20\n",
    "* Nonetheless, the average MB reward over trajectory lengths is fairly constant, and close to the reward for the observed trajectories\n",
    "* Thus, if we assume that the MB reward would continue to be fairly constant, then it indicates that the reported results in the paper should roughly hold\n",
    "\n",
    "To be precise, we look at the expected MB reward, **conditioned** on ending at a certain time point.  In follow up analyses below, we will look at related questions that are of more interest, e.g., \n",
    "* At any given point in time, what is the likelihood of immediate transition to a positive / negative reward state?  We conjecture this is high, an artifact of using a homogenous MDP"
   ]
  },
  {
   "cell_type": "markdown",
   "metadata": {},
   "source": [
    "## Mismatch in Dist. of Lengths\n",
    "\n",
    "When using rollouts from the **RAW** MDP and behavior policy, we can recover similar results to those reported in the rebuttal by the authors.\n",
    "\n",
    "**Limitation**:  We are currently set up to only generate model-based trajectories of the same length (or shorter) than the original trajectories.  Thus we cannot follow the strategy of the authors and roll out all model-based trajectories until they hit a non-zero reward state.  Nonetheless, our results here suggest those results would be similar"
   ]
  },
  {
   "cell_type": "code",
   "execution_count": 12,
   "metadata": {},
   "outputs": [],
   "source": [
    "chosen_mdp = 'train_raw'\n",
    "chosen_eval = 'train'\n",
    "\n",
    "this_mdp_data = mdp_dict[chosen_mdp]\n",
    "\n",
    "# Extract \n",
    "train_samps_mb_b = this_mdp_data['train_samps_mb_b']\n",
    "train_samps_mb_t = this_mdp_data['train_samps_mb_t']"
   ]
  },
  {
   "cell_type": "code",
   "execution_count": 13,
   "metadata": {},
   "outputs": [],
   "source": [
    "# First, we recover the pandas-based formatting on trajectories \n",
    "# (requires the index so that it can remember the original patient IDs)\n",
    "traj_train_mb_b = utils.recover_index(train_samps_mb_b, train_idx, is_cf=True)\n",
    "traj_train_mb_t = utils.recover_index(train_samps_mb_t, train_idx, is_cf=True)\n",
    "\n",
    "# Second, we convert the trajectories to median-based features, using the discrete states\n",
    "feature_lookup = data_dict['feature_lookup']\n",
    "action_lookup = data_dict['action_lookup']\n",
    "\n",
    "NSIMSAMPS = train_samps_mb_b.shape[0]"
   ]
  },
  {
   "cell_type": "code",
   "execution_count": 14,
   "metadata": {},
   "outputs": [],
   "source": [
    "# Edit these lines to look at train vs. test performance\n",
    "traj_actual = traj_train.copy()\n",
    "traj_mb_b = traj_train_mb_b.copy()"
   ]
  },
  {
   "cell_type": "code",
   "execution_count": 15,
   "metadata": {},
   "outputs": [],
   "source": [
    "results_actual = get_summary_df(traj_actual)\n",
    "results_mb_b = get_summary_df(traj_mb_b.query('action_idx >= 0'), is_cf=True)"
   ]
  },
  {
   "cell_type": "markdown",
   "metadata": {},
   "source": [
    "## Generating Figure 6"
   ]
  },
  {
   "cell_type": "code",
   "execution_count": 16,
   "metadata": {
    "scrolled": false
   },
   "outputs": [
    {
     "data": {
      "image/png": "[encoded data removed]",
      "text/plain": [
       "<Figure size 1440x720 with 2 Axes>"
      ]
     },
     "metadata": {
      "needs_background": "light"
     },
     "output_type": "display_data"
    }
   ],
   "source": [
    "plt.rcParams.update({'font.size': 22})\n",
    "fig, axes = plt.subplots(1,2, sharex='col', sharey='row', figsize=(20,10))\n",
    "\n",
    "sns.distplot(results_actual.loc[:, 'traj_len'], bins=range(21), kde=False, norm_hist=True, ax=axes[0])\n",
    "sns.distplot(results_mb_b.loc[:, 'traj_len'], bins=range(21), kde=False, norm_hist=True, ax=axes[1])\n",
    "\n",
    "for j in [0, 1]:#, 2]]:\n",
    "    title = 'Actual: {}' if j == 0 else 'MB (Behavior Policy): {}' if j == 1 else 'MB (Target Policy): {}'\n",
    "    axes[j].set_title(title.format('Proportion ending at $t$'))    \n",
    "    axes[j].set_xlabel('Time (4-hr block)')\n",
    "    axes[j].set_xticks(np.arange(21, step=2))\n",
    "\n",
    "plt.tight_layout()\n",
    "    \n",
    "plt.show()"
   ]
  },
  {
   "cell_type": "code",
   "execution_count": 17,
   "metadata": {},
   "outputs": [],
   "source": [
    "results_actual['death'] = results_actual['reward'] < 0\n",
    "results_mb_b['death'] = results_mb_b['reward'] < 0"
   ]
  },
  {
   "cell_type": "code",
   "execution_count": 18,
   "metadata": {},
   "outputs": [
    {
     "name": "stdout",
     "output_type": "stream",
     "text": [
      "\t & \t Average Reward & Pct. mortality & Trajectory length\n",
      " Train (Actual) &\t  59.25 &          20.4% &             13.37 \n",
      " Train (MB) &\t          46.85 &          16.3% &             10.74 \n",
      " Train (MB <20) &         58.95 &          20.5% &              8.08 \n"
     ]
    }
   ],
   "source": [
    "print((\n",
    "    \"\\t & \\t Average Reward & Pct. mortality & Trajectory length\"\n",
    "    \"\\n Train (Actual) &\\t {:6.2f} & {:14.1%} & {:17.2f} \"\n",
    "    \"\\n Train (MB) &\\t {:14.2f} & {:14.1%} & {:17.2f} \"\n",
    "    \"\\n Train (MB <20) & {:13.2f} & {:14.1%} & {:17.2f} \").format(\n",
    "    results_actual['reward'].mean(),\n",
    "    results_actual['death'].mean(),\n",
    "    results_actual['traj_len'].mean(),\n",
    "    results_mb_b['reward'].mean(),\n",
    "    results_mb_b['death'].mean(),\n",
    "    results_mb_b['traj_len'].mean(),\n",
    "    results_mb_b[results_mb_b['traj_len'] != 20]['reward'].mean(),\n",
    "    results_mb_b[results_mb_b['traj_len'] != 20]['death'].mean(),\n",
    "    results_mb_b[results_mb_b['traj_len'] != 20]['traj_len'].mean()\n",
    "))"
   ]
  },
  {
   "cell_type": "markdown",
   "metadata": {},
   "source": [
    "## Miscalibration over Time "
   ]
  },
  {
   "cell_type": "code",
   "execution_count": 24,
   "metadata": {},
   "outputs": [],
   "source": [
    "p_initial_state = mdp_dict['train_raw']['mdp'].p_initial_state\n",
    "\n",
    "est_tx_mat = mdp_dict['train_raw']['mdp'].tx_mat[0] # Cut off pesky component"
   ]
  },
  {
   "cell_type": "code",
   "execution_count": 25,
   "metadata": {},
   "outputs": [],
   "source": [
    "# P(R | A, S), estimated from raw counts\n",
    "prob_lives_a_s = est_tx_mat[:, :ncl, lives_state_idx]\n",
    "prob_dies_a_s = est_tx_mat[:, :ncl, death_state_idx]\n",
    "prob_noop_a_s = 1 - prob_lives_a_s - prob_dies_a_s\n",
    "assert np.all(prob_noop_a_s >= 0)"
   ]
  },
  {
   "cell_type": "code",
   "execution_count": 26,
   "metadata": {},
   "outputs": [],
   "source": [
    "# How to evaluate?  Most reasonable to compare on a state-for-state basis (i.e., predictions at actual states visited)\n",
    "transitions = traj_train.copy().reset_index()#.query('bloc == @t')[['action_idx', 'from_state_idx', 'reward']]\n",
    "\n",
    "# First let's get the relevant ground-truth labels and outcomes\n",
    "transitions['lives'] = (transitions['reward'] == 100).astype(int)\n",
    "transitions['dies'] = (transitions['reward'] == -100).astype(int)\n",
    "transitions['noop'] = (transitions['reward'] == 0).astype(int)\n",
    "\n",
    "transitions['prob_lives'] = prob_lives_a_s[transitions['action_idx'], transitions['from_state_idx']]\n",
    "transitions['prob_dies'] = prob_dies_a_s[transitions['action_idx'], transitions['from_state_idx']]\n",
    "transitions['prob_noop'] = prob_noop_a_s[transitions['action_idx'], transitions['from_state_idx']]"
   ]
  },
  {
   "cell_type": "markdown",
   "metadata": {},
   "source": [
    "## Generating Figure 7a"
   ]
  },
  {
   "cell_type": "code",
   "execution_count": 28,
   "metadata": {},
   "outputs": [],
   "source": [
    "import matplotlib.patches as patches"
   ]
  },
  {
   "cell_type": "code",
   "execution_count": 29,
   "metadata": {},
   "outputs": [],
   "source": [
    "transitions['lives_or_dies'] = transitions[['lives','dies']].sum(axis=1)\n",
    "transitions['prob_lives_or_dies'] = transitions[['prob_lives','prob_dies']].sum(axis=1)"
   ]
  },
  {
   "cell_type": "code",
   "execution_count": 30,
   "metadata": {},
   "outputs": [
    {
     "data": {
      "image/png": "[encoded data removed]",
      "text/plain": [
       "<Figure size 720x540 with 1 Axes>"
      ]
     },
     "metadata": {
      "needs_background": "light"
     },
     "output_type": "display_data"
    }
   ],
   "source": [
    "plt.rcParams.update({'font.size': 22})\n",
    "fig, ax = plt.subplots(figsize=(10,7.5))\n",
    "sns.lineplot(x = 'bloc', y='lives_or_dies', data=transitions, label='Actual', ax=ax)#, seed=0)\n",
    "sns.lineplot(x = 'bloc', y='prob_lives_or_dies', data=transitions, label='Estimated', ax=ax)#, seed=0)\n",
    "ax.lines[0].set_linestyle('-')\n",
    "ax.lines[1].set_linestyle('--')\n",
    "#ax.lines[0].set_color('blue')\n",
    "#ax.lines[1].set_color('orange')\n",
    "ax.legend()\n",
    "ax.set_ylabel('Proportion Ending')\n",
    "ax.set_xlabel('Time (4-hour block)')\n",
    "#ax.set_xlim([0,19])\n",
    "#ax.set_ylim([0,0.2])\n",
    "ax.set_xticks(np.arange(21, step=2))\n",
    "plt.tight_layout()\n",
    "plt.show()"
   ]
  },
  {
   "cell_type": "code",
   "execution_count": 31,
   "metadata": {},
   "outputs": [
    {
     "name": "stdout",
     "output_type": "stream",
     "text": [
      "& Lives (Actual) & Lives (Est.) & Dies (Actual) & Dies (Est.)\n",
      "Overall: & 0.060 & 0.060 & 0.015 & 0.015\n",
      "Before Cutoff: & 0.050 & 0.059 & 0.011 & 0.015\n",
      "At Cutoff: & 0.697 & 0.089 & 0.303 & 0.041\n"
     ]
    }
   ],
   "source": [
    "# Overall, these are (naturally) perfectly calibrated!  Because this is the training set!\n",
    "print(\"& Lives (Actual) & Lives (Est.) & Dies (Actual) & Dies (Est.)\")\n",
    "print(\"Overall: & {:.3f} & {:.3f} & {:.3f} & {:.3f}\".format(\n",
    "    *transitions.mean()[['lives', 'prob_lives', 'dies', 'prob_dies']].values.tolist()))\n",
    "print(\"Before Cutoff: & {:.3f} & {:.3f} & {:.3f} & {:.3f}\".format(\n",
    "    *transitions.query('bloc < 19').mean()[['lives', 'prob_lives', 'dies', 'prob_dies']].values.tolist()))\n",
    "print(\"At Cutoff: & {:.3f} & {:.3f} & {:.3f} & {:.3f}\".format(\n",
    "    *transitions.query('bloc == 19').mean()[['lives', 'prob_lives', 'dies', 'prob_dies']].values.tolist()))"
   ]
  },
  {
   "cell_type": "markdown",
   "metadata": {},
   "source": [
    "## Generating Figure 7b"
   ]
  },
  {
   "cell_type": "code",
   "execution_count": 32,
   "metadata": {},
   "outputs": [],
   "source": [
    "# Super hack to plot this data\n",
    "plot_df_lives = transitions.query('bloc < 19')[['lives']].rename(columns={'lives': 'Probability'})\n",
    "plot_df_lives['Lives/Dies'] = 'Lives'\n",
    "plot_df_lives['Actual/Est'] = 'Actual'\n",
    "\n",
    "plot_df_prob_lives = transitions.query('bloc < 19')[['prob_lives']].rename(columns={'prob_lives': 'Probability'})\n",
    "plot_df_prob_lives['Lives/Dies'] = 'Lives'\n",
    "plot_df_prob_lives['Actual/Est'] = 'Estimated'\n",
    "\n",
    "plot_df_dies = transitions.query('bloc < 19')[['dies']].rename(columns={'dies': 'Probability'})\n",
    "plot_df_dies['Lives/Dies'] = 'Dies'\n",
    "plot_df_dies['Actual/Est'] = 'Actual'\n",
    "\n",
    "plot_df_prob_dies = transitions.query('bloc < 19')[['prob_dies']].rename(columns={'prob_dies': 'Probability'})\n",
    "plot_df_prob_dies['Lives/Dies'] = 'Dies'\n",
    "plot_df_prob_dies['Actual/Est'] = 'Estimated'\n",
    "\n",
    "plot_df = pd.concat([plot_df_lives, plot_df_prob_lives, plot_df_dies, plot_df_prob_dies])"
   ]
  },
  {
   "cell_type": "code",
   "execution_count": 35,
   "metadata": {},
   "outputs": [
    {
     "data": {
      "image/png": "[encoded data removed]",
      "text/plain": [
       "<Figure size 720x540 with 1 Axes>"
      ]
     },
     "metadata": {
      "needs_background": "light"
     },
     "output_type": "display_data"
    }
   ],
   "source": [
    "with sns.color_palette(\"pastel\"):\n",
    "    plt.rcParams.update({'font.size': 22})\n",
    "    fig, ax = plt.subplots(figsize=(10,7.5))\n",
    "    sns.barplot(x='Lives/Dies', y='Probability', hue='Actual/Est', data=plot_df, ci=95, n_boot=1000, ax=ax)#, seed=0)\n",
    "    ax.legend()\n",
    "    plt.tight_layout()\n",
    "    plt.show()"
   ]
  },
  {
   "cell_type": "markdown",
   "metadata": {},
   "source": [
    "## Computing other statistics in paper"
   ]
  },
  {
   "cell_type": "markdown",
   "metadata": {},
   "source": [
    "Quote from paper: Of the 8271 training trajectories that end with discharge leading to survival, 4.9% end on non-zero vasopressor dosages, and 2.6% have large dosages"
   ]
  },
  {
   "cell_type": "code",
   "execution_count": 36,
   "metadata": {},
   "outputs": [
    {
     "data": {
      "text/plain": [
       "0     5201\n",
       "1        8\n",
       "2        5\n",
       "3        8\n",
       "4        3\n",
       "5     1088\n",
       "6       16\n",
       "7       22\n",
       "8       34\n",
       "9        6\n",
       "10     608\n",
       "11      27\n",
       "12      22\n",
       "13      34\n",
       "14      21\n",
       "15     620\n",
       "16      26\n",
       "17      26\n",
       "18      24\n",
       "19      28\n",
       "20     347\n",
       "21       9\n",
       "22      28\n",
       "23      31\n",
       "24      29\n",
       "Name: action_idx, dtype: int64"
      ]
     },
     "execution_count": 36,
     "metadata": {},
     "output_type": "execute_result"
    }
   ],
   "source": [
    "traj_train_reset_index = traj_train.reset_index()\n",
    "traj_train_reset_index.sort_values(by=['icustayid','bloc'],inplace=True)\n",
    "last_step_df = traj_train_reset_index.drop_duplicates(subset=['icustayid'],keep='last')\n",
    "last_step_uncensored_survival_df \\\n",
    "    = last_step_df.loc[np.logical_and(last_step_df['bloc']<19, last_step_df['reward']==100)]\n",
    "last_step_uncensored_survival_df['action_idx'].value_counts().sort_index()\n",
    "# sum 1-4, 6-9, 11-14, 16-19, 21-24 for non-zero vasopressors\n",
    "# sum 3-4, 8-9, 13-14, 18-19, 23-24 for large dosages"
   ]
  },
  {
   "cell_type": "markdown",
   "metadata": {},
   "source": [
    "Quote from paper: Of the model-based roll-outs (based on test trajectories) that end with discharge leading to survival, 52.8% end on non-zero vasopressor dosages, and 31.2% end with large dosages. This may be driven in part by censoring: Of the 1714 training trajectories that get censored but eventually lead to 90-day survival, 10.3% end on nonzero vasopressor dosages, and 5.6% are large dosages."
   ]
  },
  {
   "cell_type": "code",
   "execution_count": 7,
   "metadata": {},
   "outputs": [
    {
     "name": "stdout",
     "output_type": "stream",
     "text": [
      "Total # test model-based roll-outs ending in discharge leading to survival: 19538\n",
      "Total # test model-based roll-outs ending in discharge leading to survival and non-zero vasopressor dosages: 10319\n",
      "Total # test model-based roll-outs ending in discharge leading to survival and large vasopressor dosages: 6101\n"
     ]
    }
   ],
   "source": [
    "mb_dict = shelve.open(\"{}/mb_samples.db\".format(datapath), flag='r')\n",
    "test_samps_mb = mb_dict['test_samps_mb']\n",
    "print('Total # test model-based roll-outs ending in discharge leading to survival: ' \\\n",
    "      + str(np.sum(np.where(np.logical_and(test_samps_mb[:,:,:,0]<19, test_samps_mb[:,:,:,3]==lives_state_idx),1,0))))\n",
    "print('Total # test model-based roll-outs ending in discharge leading to survival and non-zero vasopressor dosages: ' \\\n",
    "      + str(np.sum(np.where(np.logical_and.reduce((test_samps_mb[:,:,:,0]<19, test_samps_mb[:,:,:,3]==lives_state_idx, \\\n",
    "                                                   test_samps_mb[:,:,:,1]%5>0)),1,0))))\n",
    "print('Total # test model-based roll-outs ending in discharge leading to survival and large vasopressor dosages: ' \\\n",
    "      + str(np.sum(np.where(np.logical_and.reduce((test_samps_mb[:,:,:,0]<19, test_samps_mb[:,:,:,3]==lives_state_idx, \\\n",
    "                                                   test_samps_mb[:,:,:,1]%5>2)),1,0))))"
   ]
  },
  {
   "cell_type": "code",
   "execution_count": 39,
   "metadata": {},
   "outputs": [
    {
     "data": {
      "text/plain": [
       "0     386\n",
       "1       2\n",
       "2       2\n",
       "3       9\n",
       "5     354\n",
       "6       7\n",
       "7       6\n",
       "8       4\n",
       "9       8\n",
       "10    445\n",
       "11     21\n",
       "12      9\n",
       "13     10\n",
       "14      7\n",
       "15    229\n",
       "16      9\n",
       "17     12\n",
       "18      7\n",
       "19     14\n",
       "20    124\n",
       "21      4\n",
       "22      8\n",
       "23     10\n",
       "24     27\n",
       "Name: action_idx, dtype: int64"
      ]
     },
     "execution_count": 39,
     "metadata": {},
     "output_type": "execute_result"
    }
   ],
   "source": [
    "# Training trajectories\n",
    "last_step_censored_survival_df \\\n",
    "    = last_step_df.loc[np.logical_and(last_step_df['bloc']==19, last_step_df['reward']==100)]\n",
    "last_step_censored_survival_df['action_idx'].value_counts().sort_index()\n",
    "# sum 1-4, 6-9, 11-14, 16-19, 21-24 for non-zero vasopressors\n",
    "# sum 3-4, 8-9, 13-14, 18-19, 23-24 for large dosages"
   ]
  }
 ],
 "metadata": {
  "kernelspec": {
   "display_name": "Python 3",
   "language": "python",
   "name": "python3"
  },
  "language_info": {
   "codemirror_mode": {
    "name": "ipython",
    "version": 3
   },
   "file_extension": ".py",
   "mimetype": "text/x-python",
   "name": "python",
   "nbconvert_exporter": "python",
   "pygments_lexer": "ipython3",
   "version": "3.7.3"
  }
 },
 "nbformat": 4,
 "nbformat_minor": 2
}
