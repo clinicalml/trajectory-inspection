{
 "cells": [
  {
   "cell_type": "markdown",
   "metadata": {},
   "source": [
    "# Surprisingly positive outcomes\n",
    "\n",
    "This notebook walks through the heuristic of identifying samples with surprisingly positive outcomes. Specifically, it replicates Figure 3c."
   ]
  },
  {
   "cell_type": "markdown",
   "metadata": {},
   "source": [
    "## Loading data"
   ]
  },
  {
   "cell_type": "code",
   "execution_count": 1,
   "metadata": {},
   "outputs": [],
   "source": [
    "%load_ext autoreload\n",
    "%autoreload 2"
   ]
  },
  {
   "cell_type": "code",
   "execution_count": 2,
   "metadata": {},
   "outputs": [],
   "source": [
    "data_prefix = ''\n",
    "datapath = '<REPLACE WITH OUTPUT PATH>'\n",
    "figpath = './figs'\n",
    "import sys; sys.path.insert(0, '..')\n",
    "\n",
    "import matplotlib.pyplot as plt\n",
    "import seaborn as sns\n",
    "import seaborn as sns\n",
    "import pickle as pkl\n",
    "import shelve\n",
    "import numpy as np\n",
    "import pandas as pd\n",
    "from trajectoryInspection import mimic_utils as utils\n",
    "from trajectoryInspection.mimic_config import colbin, collog, colnorm, feature_vars_map\n",
    "from trajectoryInspection import mdp_utils as cf\n",
    "\n",
    "# Avoid Type 3 fonts\n",
    "import matplotlib\n",
    "matplotlib.rcParams['pdf.fonttype'] = 42\n",
    "matplotlib.rcParams['ps.fonttype'] = 42\n",
    "\n",
    "import logging as log\n",
    "import sys\n",
    "log.basicConfig(stream=sys.stdout, level=log.DEBUG)\n",
    "log.getLogger('matplotlib').setLevel(log.WARNING)\n",
    "\n",
    "from tqdm import tqdm_notebook as tqdm\n",
    "\n",
    "# Max number of time steps\n",
    "N_HORIZON=20\n",
    "\n",
    "# Number of simulated trajectories / real trajectory\n",
    "NCFSAMPS=5\n",
    "\n",
    "# Since we've already learned a policy, no discounting here\n",
    "DISCOUNT=1.\n",
    "\n",
    "# Number of actions\n",
    "nact = 25\n",
    "# Number of states (clusters)\n",
    "ncl = 750\n",
    "# Indices\n",
    "death_state_idx = ncl\n",
    "lives_state_idx = ncl+1"
   ]
  },
  {
   "cell_type": "code",
   "execution_count": 3,
   "metadata": {},
   "outputs": [],
   "source": [
    "# Read-only access to the data\n",
    "data_dict = shelve.open(\"{}/{}data_dict.db\".format(datapath, data_prefix), flag='r')"
   ]
  },
  {
   "cell_type": "code",
   "execution_count": 4,
   "metadata": {},
   "outputs": [],
   "source": [
    "best_results = data_dict['best_results']"
   ]
  },
  {
   "cell_type": "code",
   "execution_count": 5,
   "metadata": {},
   "outputs": [],
   "source": [
    "traj_train = data_dict['best_results']['traj_train']\n",
    "traj_test = data_dict['traj_test']\n",
    "final_obs_b_soft = data_dict['best_results']['obs_b_soft']\n",
    "final_rl_pol_soft = data_dict['best_results']['rl_pol_soft']\n",
    "final_rl_pol = data_dict['best_results']['rl_pol']"
   ]
  },
  {
   "cell_type": "markdown",
   "metadata": {},
   "source": [
    "## Generating Model-Based Trajectories"
   ]
  },
  {
   "cell_type": "markdown",
   "metadata": {},
   "source": [
    "The following code defines the MDP from which we will be generating model-based rollouts"
   ]
  },
  {
   "cell_type": "code",
   "execution_count": 6,
   "metadata": {},
   "outputs": [],
   "source": [
    "# Define the MDP we use for model-based rollouts\n",
    "mdp_train_raw, mdp_train_raw_sampler, raw_obs_b = utils.create_mdp(\n",
    "    data_dict['best_results']['traj_train'],\n",
    "    remove_low_freq=False, \n",
    "    insta_death=False,\n",
    "    soften=False,\n",
    "    enforce_complete=False,\n",
    "    nact=nact, ncl=ncl, \n",
    "    death_state_idx=death_state_idx, lives_state_idx=lives_state_idx,\n",
    "    return_obs_b=True)\n",
    "\n",
    "# Collect the test trajectories\n",
    "test_samps = data_dict['test_samps']\n",
    "test_idx_flat = data_dict['test_idx_flat']\n",
    "test_idx = np.broadcast_to(test_idx_flat[:, np.newaxis], (test_idx_flat.shape[0], N_HORIZON))"
   ]
  },
  {
   "cell_type": "markdown",
   "metadata": {},
   "source": [
    "This code generates the model-based rollouts, but this can take some time (e.g., 1 hour) so we save the results in a shelve file and then re-load when replicating results\n",
    "\n",
    "Note: After this code runs, we recommend commenting it out, and then re-loading from file."
   ]
  },
  {
   "cell_type": "code",
   "execution_count": null,
   "metadata": {},
   "outputs": [],
   "source": [
    "# Generate model-based rollouts\n",
    "np.random.seed(0)\n",
    "test_samps_mb = mdp_train_raw_sampler.cf_trajectory(\n",
    "    test_samps,\n",
    "    cf_policy=rl_pol,\n",
    "    n_cf_samps=NCFSAMPS, use_tqdm=True,\n",
    "    use_mb=True)  # This conditions on only the first state\n",
    "\n",
    "# Back up our results\n",
    "mb_dict = shelve.open(\"{}/mb_samples.db\".format(datapath))\n",
    "mb_dict['test_samps_mb'] = test_samps_mb\n",
    "mb_dict.close()"
   ]
  },
  {
   "cell_type": "code",
   "execution_count": 8,
   "metadata": {},
   "outputs": [],
   "source": [
    "# Re-load our results\n",
    "mb_dict = shelve.open(\"{}/mb_samples.db\".format(datapath), flag='r')\n",
    "test_samps_mb = mb_dict['test_samps_mb']"
   ]
  },
  {
   "cell_type": "code",
   "execution_count": 9,
   "metadata": {},
   "outputs": [],
   "source": [
    "feature_lookup = data_dict['feature_lookup']\n",
    "action_lookup = data_dict['action_lookup']\n",
    "\n",
    "# Actual Trajectories with all features\n",
    "traj_test_full = data_dict['traj_test_full']\n",
    "\n",
    "# Model-based trajectories with appropriate indexing and only state / action / reward variables\n",
    "traj_test_mb = utils.recover_index(test_samps_mb, test_idx, \n",
    "                                   # This argument should be renamed, really asking \n",
    "                                   # \"is there more than one trajectory per ICUstayID?\"\n",
    "                                   is_cf=True)\n",
    "\n",
    "# Model-based trajectories with imputed features\n",
    "traj_test_full_mb = utils.traj_to_features(traj_test_mb, feature_lookup, action_lookup)\n",
    "\n",
    "NSIMSAMPS = test_samps_mb.shape[0]"
   ]
  },
  {
   "cell_type": "markdown",
   "metadata": {},
   "source": [
    "## Generating Figure 3c"
   ]
  },
  {
   "cell_type": "markdown",
   "metadata": {},
   "source": [
    "This figure plots difference in reward by initial state"
   ]
  },
  {
   "cell_type": "code",
   "execution_count": 10,
   "metadata": {},
   "outputs": [],
   "source": [
    "# Used later to get per-trajectory summaries of rollouts\n",
    "def get_summary_df(traj, is_cf=False):\n",
    "    gb = ['icustayid', 'cf_index'] if is_cf else 'icustayid'\n",
    "    \n",
    "    df = traj.groupby(gb).agg(\n",
    "    {'reward': 'sum', \n",
    "     'action_idx': ['count', 'last'], \n",
    "     'from_state_idx':['first', 'last']})\n",
    "\n",
    "    df.columns = ['_'.join(col).rstrip('_') for col in df.columns.values]\n",
    "    d = dict(zip(df.columns.values, ['reward', 'traj_len', 'final_action', 'initial_state', 'final_state']))\n",
    "    df.rename(columns = d, inplace=True)\n",
    "    \n",
    "    return df"
   ]
  },
  {
   "cell_type": "code",
   "execution_count": 11,
   "metadata": {},
   "outputs": [],
   "source": [
    "# These summarize the MB and actual trajectories, averaging over the replicates in the former\n",
    "traj_test_summary = get_summary_df(traj_test)\n",
    "traj_test_mb_summary = get_summary_df(traj_test_mb, is_cf=True)\n",
    "\n",
    "reward_diff = traj_test_mb_summary.mean()['reward'] - traj_test_summary.mean()['reward']\n",
    "\n",
    "# These calculate the reward by each state\n",
    "reward_by_state_actual = traj_test_summary.groupby('initial_state').agg([np.mean, np.size])['reward']\n",
    "reward_by_state_actual['pct'] = reward_by_state_actual['size'] / reward_by_state_actual['size'].sum()\n",
    "\n",
    "reward_by_state_mb = traj_test_mb_summary.groupby('initial_state').agg([np.mean, np.size])['reward']\n",
    "reward_by_state_mb['pct'] = reward_by_state_mb['size'] / reward_by_state_mb['size'].sum()\n",
    "\n",
    "# These are the values we end up plotting\n",
    "plot_values = (reward_by_state_mb - reward_by_state_actual)['mean'].sort_values()"
   ]
  },
  {
   "cell_type": "code",
   "execution_count": 12,
   "metadata": {},
   "outputs": [],
   "source": [
    "from matplotlib.patches import Ellipse\n",
    "from matplotlib.offsetbox import (TextArea, AnnotationBbox)"
   ]
  },
  {
   "cell_type": "code",
   "execution_count": 13,
   "metadata": {},
   "outputs": [
    {
     "data": {
      "image/png": "[encoded data removed]",
      "text/plain": [
       "<Figure size 720x360 with 1 Axes>"
      ]
     },
     "metadata": {
      "needs_background": "light"
     },
     "output_type": "display_data"
    }
   ],
   "source": [
    "plt.rcParams.update({'font.size': 14})\n",
    "fig, ax = plt.subplots(1,1, figsize=(10, 5))\n",
    "xrange = range(plot_values.shape[0])\n",
    "ax.fill_between(xrange, 0, plot_values.values, where=(plot_values.values > 0), color='g', alpha=0.2)\n",
    "ax.plot(plot_values.values, color='k', alpha=0.2)\n",
    "ax.fill_between(xrange, 0, plot_values.values, where=(plot_values.values < 0), color='r', alpha=0.2)\n",
    "ax.set_xlabel('Initial State (Sorted by Difference)')\n",
    "ax.set_ylabel('Difference in Reward')\n",
    "ax.tick_params(\n",
    "    axis='x',          # changes apply to the x-axis\n",
    "    which='both',      # both major and minor ticks are affected\n",
    "    bottom=False,      # ticks along the bottom edge are off\n",
    "    top=False,         # ticks along the top edge are off\n",
    "    labelbottom=False) # labels along the bottom edge are off\n",
    "\n",
    "xy = (plot_values.shape[0]-10, 200)\n",
    "circ = Ellipse(xy, 35, 20, color='k', fill=False)\n",
    "ax.add_artist(circ)\n",
    "ax.annotate(\"Investigate!\", (xy[0]-20, xy[1]), xytext=(xy[0]-200, xy[1]-5), arrowprops={'arrowstyle': '->'})\n",
    "\n",
    "ax.set_frame_on(False)\n",
    "\n",
    "ax.hlines(reward_diff, xmin=0, xmax=plot_values.shape[0], label='Weighted Average')\n",
    "\n",
    "plt.tight_layout()\n",
    "plt.show()"
   ]
  }
 ],
 "metadata": {
  "kernelspec": {
   "display_name": "Python 3",
   "language": "python",
   "name": "python3"
  },
  "language_info": {
   "codemirror_mode": {
    "name": "ipython",
    "version": 3
   },
   "file_extension": ".py",
   "mimetype": "text/x-python",
   "name": "python",
   "nbconvert_exporter": "python",
   "pygments_lexer": "ipython3",
   "version": "3.7.3"
  }
 },
 "nbformat": 4,
 "nbformat_minor": 2
}
