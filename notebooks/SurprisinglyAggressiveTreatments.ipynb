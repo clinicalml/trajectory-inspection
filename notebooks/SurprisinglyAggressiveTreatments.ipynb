{
 "cells": [
  {
   "cell_type": "markdown",
   "metadata": {},
   "source": [
    "# Surprisingly aggressive treatments\n",
    "This notebook generates the figures describing the heuristic in Figure 3a-b and computes the related statistics mentioned in the paper."
   ]
  },
  {
   "cell_type": "markdown",
   "metadata": {},
   "source": [
    "## Loading data"
   ]
  },
  {
   "cell_type": "code",
   "execution_count": 1,
   "metadata": {},
   "outputs": [],
   "source": [
    "%load_ext autoreload\n",
    "%autoreload 2"
   ]
  },
  {
   "cell_type": "code",
   "execution_count": 2,
   "metadata": {},
   "outputs": [],
   "source": [
    "data_prefix = ''\n",
    "datapath = '<REPLACE WITH OUTPUT PATH>'\n",
    "figpath = './figs'\n",
    "import sys; sys.path.insert(0, '..')\n",
    "\n",
    "import matplotlib.pyplot as plt\n",
    "import seaborn as sns\n",
    "import seaborn as sns\n",
    "import pickle as pkl\n",
    "import shelve\n",
    "import numpy as np\n",
    "import pandas as pd\n",
    "from trajectoryInspection import mimic_utils as utils\n",
    "from trajectoryInspection.mimic_config import colbin, collog, colnorm, feature_vars_map\n",
    "from trajectoryInspection import mdp_utils as cf\n",
    "\n",
    "# Avoid Type 3 fonts\n",
    "import matplotlib\n",
    "matplotlib.rcParams['pdf.fonttype'] = 42\n",
    "matplotlib.rcParams['ps.fonttype'] = 42\n",
    "\n",
    "import logging as log\n",
    "import sys\n",
    "log.basicConfig(stream=sys.stdout, level=log.DEBUG)\n",
    "log.getLogger('matplotlib').setLevel(log.WARNING)\n",
    "\n",
    "from tqdm import tqdm_notebook as tqdm\n",
    "\n",
    "# Max number of time steps\n",
    "N_HORIZON=20\n",
    "\n",
    "# Number of simulated trajectories / real trajectory\n",
    "NCFSAMPS=5\n",
    "\n",
    "# Since we've already learned a policy, no discounting here\n",
    "DISCOUNT=1.\n",
    "\n",
    "# Number of actions\n",
    "nact = 25\n",
    "# Number of states (clusters)\n",
    "ncl = 750\n",
    "# Indices\n",
    "death_state_idx = ncl\n",
    "lives_state_idx = ncl+1"
   ]
  },
  {
   "cell_type": "code",
   "execution_count": 3,
   "metadata": {},
   "outputs": [],
   "source": [
    "# Read-only access to the data\n",
    "data_dict = shelve.open(\"{}/{}data_dict.db\".format(datapath, data_prefix), flag='r')"
   ]
  },
  {
   "cell_type": "code",
   "execution_count": 4,
   "metadata": {},
   "outputs": [],
   "source": [
    "best_results = data_dict['best_results']"
   ]
  },
  {
   "cell_type": "code",
   "execution_count": 5,
   "metadata": {},
   "outputs": [],
   "source": [
    "traj_train = data_dict['best_results']['traj_train']\n",
    "traj_test = data_dict['traj_test']\n",
    "final_obs_b_soft = data_dict['best_results']['obs_b_soft']\n",
    "final_rl_pol_soft = data_dict['best_results']['rl_pol_soft']\n",
    "final_rl_pol = data_dict['best_results']['rl_pol']"
   ]
  },
  {
   "cell_type": "markdown",
   "metadata": {},
   "source": [
    "## Identifying states to investigate under surprisingly aggressive treatments heuristic"
   ]
  },
  {
   "cell_type": "code",
   "execution_count": 6,
   "metadata": {},
   "outputs": [],
   "source": [
    "state_counts = np.zeros(data_dict['best_results']['rl_pol'].shape[0], dtype=np.int32)\n",
    "state_action_counts = np.zeros(data_dict['best_results']['rl_pol'].shape, dtype=np.int32)\n",
    "train_actions = data_dict['best_results']['traj_train']['action_idx'].values\n",
    "train_states = data_dict['best_results']['traj_train']['from_state_idx'].values\n",
    "for idx in range(len(train_actions)):\n",
    "    idx_state = train_states[idx]\n",
    "    idx_action = train_actions[idx]\n",
    "    state_counts[idx_state] += 1\n",
    "    state_action_counts[idx_state,idx_action] += 1"
   ]
  },
  {
   "cell_type": "code",
   "execution_count": 7,
   "metadata": {},
   "outputs": [
    {
     "name": "stdout",
     "output_type": "stream",
     "text": [
      "15\n",
      "[(62, 19), (91, 11), (121, 14), (181, 16), (205, 13), (312, 14), (339, 18), (436, 8), (438, 19), (543, 17), (660, 13), (672, 22), (673, 18), (696, 7), (711, 24)]\n"
     ]
    }
   ],
   "source": [
    "rare_state_actions = []\n",
    "for state_idx in range(data_dict['best_results']['rl_pol'].shape[0]):\n",
    "    if state_counts[state_idx] < 100:\n",
    "        continue\n",
    "    state_action_idx = int(np.nonzero(data_dict['best_results']['rl_pol'][state_idx])[0])\n",
    "    if state_action_counts[state_idx,state_action_idx] > 0 \\\n",
    "        and state_action_counts[state_idx,state_action_idx]/float(state_counts[state_idx]) <= 0.01:\n",
    "        rare_state_actions.append((state_idx, state_action_idx))\n",
    "print(len(rare_state_actions))\n",
    "print(rare_state_actions)"
   ]
  },
  {
   "cell_type": "code",
   "execution_count": 8,
   "metadata": {},
   "outputs": [
    {
     "name": "stdout",
     "output_type": "stream",
     "text": [
      "[(62, 10), (91, 10), (121, 5), (181, 20), (205, 10), (312, 5), (339, 10), (436, 10), (438, 15), (543, 20), (660, 15), (672, 5), (673, 20), (696, 0), (711, 15)]\n"
     ]
    }
   ],
   "source": [
    "rare_state_largest_action = []\n",
    "for idx in range(len(rare_state_actions)):\n",
    "    state = rare_state_actions[idx][0]\n",
    "    rare_state_largest_action.append((state, np.argmax(state_action_counts[state])))\n",
    "print(rare_state_largest_action)"
   ]
  },
  {
   "cell_type": "markdown",
   "metadata": {},
   "source": [
    "## Generating Figure 3a"
   ]
  },
  {
   "cell_type": "code",
   "execution_count": 9,
   "metadata": {},
   "outputs": [],
   "source": [
    "# percentage of time rl action happens\n",
    "rl_percentages = []\n",
    "for state_idx in range(data_dict['best_results']['rl_pol'].shape[0]):\n",
    "    state_action_idx = int(np.nonzero(data_dict['best_results']['rl_pol'][state_idx])[0])\n",
    "    rl_percentages.append(state_action_counts[state_idx,state_action_idx]/float(state_counts[state_idx]))"
   ]
  },
  {
   "cell_type": "code",
   "execution_count": 10,
   "metadata": {},
   "outputs": [
    {
     "name": "stdout",
     "output_type": "stream",
     "text": [
      "[[14]]\n"
     ]
    },
    {
     "data": {
      "image/png": "[encoded data removed]",
      "text/plain": [
       "<Figure size 432x288 with 1 Axes>"
      ]
     },
     "metadata": {
      "needs_background": "light"
     },
     "output_type": "display_data"
    }
   ],
   "source": [
    "sorted_idxs = np.argsort(np.array(rl_percentages))\n",
    "reverse_sorted_idxs = np.argsort(-1*np.array(rl_percentages))\n",
    "sorted_rl_percentages = np.array(rl_percentages)[reverse_sorted_idxs.tolist()]\n",
    "print(np.argwhere(sorted_idxs==672))\n",
    "plt.rcParams.update({'font.size':20})\n",
    "fig, ax = plt.subplots()\n",
    "ax.plot(np.arange(len(sorted_rl_percentages)), 100*sorted_rl_percentages, color='k')\n",
    "ax.set_ylim(bottom=0,top=100)\n",
    "ax.set_xlim(left=0,right=len(sorted_rl_percentages))\n",
    "ax.set_xticks([])\n",
    "ax.set_xlabel('State')\n",
    "ax.set_ylabel('RL action percentage')\n",
    "from matplotlib.patches import Ellipse\n",
    "circ = Ellipse((len(sorted_rl_percentages)-50,0.025*100), 125, .1*100, color='r', fill=False, clip_on=False)\n",
    "ax.add_artist(circ)\n",
    "ax.annotate(\"Investigate!\", (len(sorted_rl_percentages)-70, 0.08*100), xytext=(len(sorted_rl_percentages)-300, 0.25*100), \\\n",
    "            arrowprops={'arrowstyle': '->'}, clip_on=False)\n",
    "plt.tight_layout()\n",
    "plt.show()"
   ]
  },
  {
   "cell_type": "markdown",
   "metadata": {},
   "source": [
    "## Generating Figure 3b"
   ]
  },
  {
   "cell_type": "code",
   "execution_count": 11,
   "metadata": {},
   "outputs": [],
   "source": [
    "states_ordered = sorted_idxs[5:15]\n",
    "common_fluids_ordered = np.zeros(10)\n",
    "rl_fluids_ordered = np.zeros(10)\n",
    "common_vasopressor_ordered = np.zeros(10)\n",
    "rl_vasopressor_ordered = np.zeros(10)\n",
    "for idx in range(len(rare_state_actions)):\n",
    "    if rare_state_actions[idx][0] not in states_ordered.tolist():\n",
    "        continue\n",
    "    ordered_idx = states_ordered.tolist().index(rare_state_actions[idx][0])\n",
    "    common_fluids_ordered[ordered_idx] = int(rare_state_largest_action[idx][1]/5)\n",
    "    rl_fluids_ordered[ordered_idx] = int(rare_state_actions[idx][1]/5)\n",
    "    common_vasopressor_ordered[ordered_idx] = int(rare_state_largest_action[idx][1]%5)\n",
    "    rl_vasopressor_ordered[ordered_idx] = int(rare_state_actions[idx][1]%5)"
   ]
  },
  {
   "cell_type": "code",
   "execution_count": 12,
   "metadata": {},
   "outputs": [
    {
     "data": {
      "image/png": "[encoded data removed]",
      "text/plain": [
       "<Figure size 576x288 with 2 Axes>"
      ]
     },
     "metadata": {
      "needs_background": "light"
     },
     "output_type": "display_data"
    }
   ],
   "source": [
    "plt.rcParams.update({'font.size':17})\n",
    "fig, ax = plt.subplots(nrows=1, ncols=2, figsize=(8,4), sharey=True)\n",
    "ax[0].scatter(common_fluids_ordered, range(1,len(common_fluids_ordered)+1), color='green')\n",
    "ax[0].scatter(rl_fluids_ordered, range(1,len(rl_fluids_ordered)+1), color='blue', marker='x')\n",
    "ax[1].scatter(common_vasopressor_ordered, range(1,len(common_vasopressor_ordered)+1), color='green')\n",
    "ax[1].scatter(rl_vasopressor_ordered, range(1,len(rl_vasopressor_ordered)+1), color='blue', marker='x')\n",
    "for idx in range(len(common_fluids_ordered)):\n",
    "    color = 'black'\n",
    "    if idx == 9:\n",
    "        color = 'red'\n",
    "    if rl_fluids_ordered[idx] > common_fluids_ordered[idx]:\n",
    "        ax[0].arrow(common_fluids_ordered[idx]+0.03, idx+1, \\\n",
    "                    rl_fluids_ordered[idx] - common_fluids_ordered[idx] - 0.09, 0, \\\n",
    "                    head_width=0.3, head_length=0.1, length_includes_head=True, color=color)\n",
    "    else:\n",
    "        ax[0].arrow(common_fluids_ordered[idx]+0.03, idx+1, \\\n",
    "                    rl_fluids_ordered[idx] - common_fluids_ordered[idx] + 0.03, 0, \\\n",
    "                    head_width=0.3, head_length=0.1, length_includes_head=True, color=color)\n",
    "    if rl_vasopressor_ordered[idx] > common_fluids_ordered[idx]:\n",
    "        ax[1].arrow(common_fluids_ordered[idx]+0.03, idx+1, \\\n",
    "                    rl_vasopressor_ordered[idx] - common_fluids_ordered[idx] - 0.09, 0, \\\n",
    "                    head_width=0.3, head_length=0.1, length_includes_head=True, color=color)\n",
    "    else:\n",
    "        ax[1].arrow(common_fluids_ordered[idx]+0.03, idx+1, \\\n",
    "                    rl_vasopressor_ordered[idx] - common_fluids_ordered[idx] + 0.03, 0, \\\n",
    "                    head_width=0.3, head_length=0.1, length_includes_head=True, color=color)\n",
    "ax[0].set_xticks(range(5))\n",
    "ax[0].set_xticklabels([0,30,80,280,848])\n",
    "ax[1].set_xticks(range(5))\n",
    "ax[1].set_xticklabels([0,0.04,0.103,0.225,0.675])\n",
    "ax[0].set_yticks([])\n",
    "ax[1].set_yticks([])\n",
    "ax[0].set_title('Fluids')\n",
    "ax[1].set_title('Vasopressors')\n",
    "plt.tight_layout()\n",
    "plt.show()"
   ]
  },
  {
   "cell_type": "markdown",
   "metadata": {},
   "source": [
    "## Compute statistics related to this heuristic"
   ]
  },
  {
   "cell_type": "markdown",
   "metadata": {},
   "source": [
    "Quote from paper: The most common action performed by the clinicians for patients in this state was to provide 30cc of fluids[...] and no vasopressors. In contrast, the RL policy recommends 848cc of fluids and 0.13 micrograms/kg/min of vasopressors. Of the 632 times the state is observed in the training data, the common action noted above is taken 161 times, while the ‘optimal’ action according to the learned RL policy is chosen only 6 times by clinicians."
   ]
  },
  {
   "cell_type": "code",
   "execution_count": 14,
   "metadata": {},
   "outputs": [
    {
     "name": "stdout",
     "output_type": "stream",
     "text": [
      "Number of state occurrences: 632\n",
      "Number of common action occurrences: 161\n",
      "Number of RL action occurrences: 6\n",
      "Common fluids dosage: 30.0\n",
      "Common vasopressors dosage: 0.0\n",
      "RL fluids dosage: 848.147066666667\n",
      "RL vasopressors dosage: 0.10300000000000001\n"
     ]
    }
   ],
   "source": [
    "feature_lookup = data_dict['feature_lookup']\n",
    "action_lookup = data_dict['action_lookup']\n",
    "print('Number of state occurrences: ' + str(state_counts[672]))\n",
    "print('Number of common action occurrences: ' + str(state_action_counts[672][5]))\n",
    "print('Number of RL action occurrences: ' + str(state_action_counts[672][22]))\n",
    "print('Common fluids dosage: ' + str(action_lookup['iol_median'].values[5]))\n",
    "print('Common vasopressors dosage: ' + str(action_lookup['vcl_median'].values[5]))\n",
    "print('RL fluids dosage: ' + str(action_lookup['iol_median'].values[22]))\n",
    "print('RL vasopressors dosage: ' + str(action_lookup['vcl_median'].values[22]))"
   ]
  },
  {
   "cell_type": "markdown",
   "metadata": {},
   "source": [
    "Quote from paper: Among the training data, the RL action from the state analyzed for patient 1 was observed for only 6 patients (who survived), while the common action was observed for 148 patients who survived and 13 patients who died."
   ]
  },
  {
   "cell_type": "code",
   "execution_count": 15,
   "metadata": {},
   "outputs": [],
   "source": [
    "traj_train_reset_index = traj_train.reset_index()\n",
    "states = traj_train_reset_index['from_state_idx'].values\n",
    "actions = traj_train_reset_index['action_idx'].values\n",
    "blocs = traj_train_reset_index['bloc'].values\n",
    "icustayids = traj_train_reset_index['icustayid'].values\n",
    "a5_rewards = []\n",
    "a22_rewards = []\n",
    "for idx in range(len(states)):\n",
    "    if states[idx] == 672:\n",
    "        if actions[idx] == 5:\n",
    "            reward = traj_train_reset_index.loc[traj_train_reset_index['icustayid']==icustayids[idx]].reward.values[-1]\n",
    "            a5_rewards.append(reward)\n",
    "        elif actions[idx] == 22:\n",
    "            reward = traj_train_reset_index.loc[traj_train_reset_index['icustayid']==icustayids[idx]].reward.values[-1]\n",
    "            a22_rewards.append(reward)"
   ]
  },
  {
   "cell_type": "code",
   "execution_count": 16,
   "metadata": {},
   "outputs": [
    {
     "name": "stdout",
     "output_type": "stream",
     "text": [
      "(array([-100,  100]), array([ 13, 148]))\n",
      "(array([100]), array([6]))\n"
     ]
    }
   ],
   "source": [
    "print(np.unique(np.array(a5_rewards), return_counts=True))\n",
    "print(np.unique(np.array(a22_rewards), return_counts=True))"
   ]
  },
  {
   "cell_type": "markdown",
   "metadata": {},
   "source": [
    "Quote from paper: Among the 100 states where [the RL action] proportion was smallest, the RL action is observed 1.5% of the time on average (6.4 observations per state), while the action most frequently chosen by clinicians is observed 35.7% of the time on average (154.5 observations per state). These states collectively make up 26.2% of the transitions in the training data, a nontrivial fraction."
   ]
  },
  {
   "cell_type": "code",
   "execution_count": 17,
   "metadata": {},
   "outputs": [],
   "source": [
    "def calc_state_occurrence_proportion(top_num):\n",
    "    sorted_idxs = np.argsort(np.array(rl_percentages))\n",
    "    top_idxs = sorted_idxs[5:5+top_num]\n",
    "    total_state_count = 0\n",
    "    for idx in top_idxs:\n",
    "        total_state_count += state_counts[idx]\n",
    "    print(total_state_count/float(np.sum(state_counts)))"
   ]
  },
  {
   "cell_type": "code",
   "execution_count": 18,
   "metadata": {},
   "outputs": [],
   "source": [
    "def calc_rl_common_avg_count(top_num):\n",
    "    sorted_idxs = np.argsort(np.array(rl_percentages))\n",
    "    top_idxs = sorted_idxs[5:5+top_num]\n",
    "    total_rl_count = 0\n",
    "    total_common_count = 0\n",
    "    counts = np.empty(top_num)\n",
    "    j = 0\n",
    "    for idx in top_idxs:\n",
    "        counts[j] = state_action_counts[idx,int(np.nonzero(final_rl_pol[idx])[0])]\n",
    "        j+=1\n",
    "        total_rl_count += state_action_counts[idx,int(np.nonzero(final_rl_pol[idx])[0])]\n",
    "        total_common_count += np.max(state_action_counts[idx])\n",
    "    print(total_rl_count/float(top_num))\n",
    "    print(total_common_count/float(top_num))\n",
    "    print(np.unique(counts,return_counts=True))"
   ]
  },
  {
   "cell_type": "code",
   "execution_count": 19,
   "metadata": {},
   "outputs": [],
   "source": [
    "def calc_rl_common_avg_perc(top_num):\n",
    "    sorted_idxs = np.argsort(np.array(rl_percentages))\n",
    "    top_idxs = sorted_idxs[5:5+top_num]\n",
    "    rl_percs = np.empty(top_num)\n",
    "    common_percs = np.empty(top_num)\n",
    "    j = 0\n",
    "    for idx in top_idxs:\n",
    "        rl_percs[j] = state_action_counts[idx,int(np.nonzero(final_rl_pol[idx])[0])]/float(state_counts[idx])\n",
    "        common_percs[j] = np.max(state_action_counts[idx])/float(state_counts[idx])\n",
    "        j+=1\n",
    "    print(np.average(rl_percs))\n",
    "    print(np.average(common_percs))"
   ]
  },
  {
   "cell_type": "code",
   "execution_count": 20,
   "metadata": {},
   "outputs": [
    {
     "name": "stdout",
     "output_type": "stream",
     "text": [
      "0.2618368953344147\n",
      "0.015110765686679278\n",
      "0.35676111247297115\n",
      "6.35\n",
      "154.47\n",
      "(array([ 5.,  6.,  7.,  8.,  9., 10., 11., 13., 14.]), array([44, 21, 16,  7,  7,  2,  1,  1,  1]))\n"
     ]
    }
   ],
   "source": [
    "calc_state_occurrence_proportion(100)\n",
    "calc_rl_common_avg_perc(100)\n",
    "calc_rl_common_avg_count(100)"
   ]
  },
  {
   "cell_type": "markdown",
   "metadata": {},
   "source": [
    "Quote from paper: For 99 of these 100 states, common practice involves zero vasopressors. Yet, the RL policy recommends vasopressors in 87 of those states, with 49 of those recommendations being large doses, which we define as those in the upper 50th percentile of nonzero amounts."
   ]
  },
  {
   "cell_type": "code",
   "execution_count": 23,
   "metadata": {},
   "outputs": [
    {
     "name": "stdout",
     "output_type": "stream",
     "text": [
      "[99  0  0  0  1]\n",
      "[12 21 17 27 22]\n"
     ]
    }
   ],
   "source": [
    "sorted_idxs = np.argsort(np.array(rl_percentages))\n",
    "top_idxs = sorted_idxs[5:105]\n",
    "common_vasopressor_counts = np.zeros(5,dtype=np.int32)\n",
    "rl_vasopressor_counts = np.zeros(5,dtype=np.int32)\n",
    "for idx in top_idxs:\n",
    "    rl_action = int(np.nonzero(final_rl_pol[idx])[0])\n",
    "    common_action = np.argmax(state_action_counts[idx])\n",
    "    common_vasopressor_counts[int(common_action%5)] += 1\n",
    "    if common_action%5 == 0:\n",
    "        rl_vasopressor_counts[int(rl_action%5)] += 1\n",
    "print(common_vasopressor_counts)\n",
    "print(rl_vasopressor_counts)"
   ]
  }
 ],
 "metadata": {
  "kernelspec": {
   "display_name": "Python 3",
   "language": "python",
   "name": "python3"
  },
  "language_info": {
   "codemirror_mode": {
    "name": "ipython",
    "version": 3
   },
   "file_extension": ".py",
   "mimetype": "text/x-python",
   "name": "python",
   "nbconvert_exporter": "python",
   "pygments_lexer": "ipython3",
   "version": "3.7.3"
  }
 },
 "nbformat": 4,
 "nbformat_minor": 2
}
