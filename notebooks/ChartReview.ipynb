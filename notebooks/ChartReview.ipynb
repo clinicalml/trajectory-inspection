{
 "cells": [
  {
   "cell_type": "markdown",
   "metadata": {},
   "source": [
    "# Chart Review\n",
    "\n",
    "In this analysis, we review the medical record for the two patients shown in Figure 4."
   ]
  },
  {
   "cell_type": "code",
   "execution_count": null,
   "metadata": {},
   "outputs": [],
   "source": [
    "%load_ext autoreload\n",
    "%autoreload 2"
   ]
  },
  {
   "cell_type": "code",
   "execution_count": null,
   "metadata": {},
   "outputs": [],
   "source": [
    "import pandas as pd\n",
    "from collections import Counter\n",
    "import ipywidgets as widgets\n",
    "import tables\n",
    "import psycopg2\n",
    "import numpy as np\n",
    "import pickle, shelve"
   ]
  },
  {
   "cell_type": "code",
   "execution_count": null,
   "metadata": {},
   "outputs": [],
   "source": [
    "icu_id = 0 # replace with desired ID\n",
    "# The two IDs we investigated are loaded below:\n",
    "data_prefix = ''\n",
    "datapath = '<REPLACE WITH OUTPUT PATH>'\n",
    "data_dict = shelve.open(\"{}/{}data_dict.db\".format(datapath, data_prefix), flag='r')\n",
    "best_results = data_dict['best_results']\n",
    "test_idx_flat = data_dict['test_idx_flat']\n",
    "icu_id1 = test_idx_flat[1265] # from surprisingly positive outcomes heuristic\n",
    "test_idx_flat_672_5 = []\n",
    "for samp_idx in range(test_samps.shape[0]):\n",
    "    for time_idx in range(test_samps.shape[1]):\n",
    "        if test_samps[samp_idx,time_idx,2]==672 and test_samps[samp_idx,time_idx,1]==5:\n",
    "            icustayid = test_idx_flat[samp_idx]\n",
    "            test_idx_flat_672_5.append(icustayid)\n",
    "            break\n",
    "test_idx_flat_672_5 = np.array(test_idx_flat_672_5)\n",
    "icu_id2 = test_idx_flat_672_5[12] # from surprisingly aggressive treatments heuristic"
   ]
  },
  {
   "cell_type": "code",
   "execution_count": null,
   "metadata": {},
   "outputs": [],
   "source": [
    "sqluser = '<REPLACE WITH USER>'\n",
    "dbname = 'mimic'\n",
    "schema_name = 'mimiciii'\n",
    "\n",
    "con = psycopg2.connect(dbname=dbname, user=sqluser, host='/var/run/postgresql')\n",
    "cur = con.cursor()\n",
    "\n",
    "cur.execute('SET search_path to ' + schema_name)"
   ]
  },
  {
   "cell_type": "code",
   "execution_count": null,
   "metadata": {},
   "outputs": [],
   "source": [
    "def query_mimic(query):\n",
    "    cur.execute('SET search_path to ' + schema_name)\n",
    "    return pd.read_sql_query(query, con)"
   ]
  },
  {
   "cell_type": "code",
   "execution_count": null,
   "metadata": {},
   "outputs": [],
   "source": [
    "def get_hadm_from_icu(icustay_id):\n",
    "    icustay_id += 200000\n",
    "    hadm = query_mimic(\"select hadm_id from icustays where icustay_id = {}\".format(icustay_id))\n",
    "    return hadm"
   ]
  },
  {
   "cell_type": "code",
   "execution_count": null,
   "metadata": {},
   "outputs": [],
   "source": [
    "this_hadm_id = get_hadm_from_icu(icu_id).values[0][0]\n",
    "this_subject_id = query_mimic(\"select subject_id from admissions where hadm_id = {}\".format(this_hadm_id)).values[0][0]"
   ]
  },
  {
   "cell_type": "markdown",
   "metadata": {},
   "source": [
    "First, we check to confirm that this is the only ICU stay for this particular patient. Then, we check the records against the start/end times of our observed trajectory."
   ]
  },
  {
   "cell_type": "code",
   "execution_count": null,
   "metadata": {},
   "outputs": [],
   "source": [
    "query_mimic(\"select * from admissions where subject_id = {}\".format(this_subject_id))"
   ]
  },
  {
   "cell_type": "code",
   "execution_count": null,
   "metadata": {},
   "outputs": [],
   "source": [
    "fpath = '<REPLACE WITH DATA PATH>'\n",
    "raw = pd.read_csv(\"{}/mimic-table.csv\".format(fpath)) #MIMICtable\n",
    "\n",
    "this_patient_id = icu_id\n",
    "\n",
    "start_chart_time = raw[raw.icustayid == this_patient_id].charttime.iloc[0]\n",
    "end_chart_time = raw[raw.icustayid == this_patient_id].charttime.iloc[-1]\n",
    "\n",
    "import datetime\n",
    "print(\"Range of Observed / Model-Based Trajectories is given by:\")\n",
    "print(datetime.datetime.fromtimestamp(start_chart_time))\n",
    "print(datetime.datetime.fromtimestamp(end_chart_time))"
   ]
  },
  {
   "cell_type": "code",
   "execution_count": null,
   "metadata": {},
   "outputs": [],
   "source": [
    "# visualize the notes for a given patient\n",
    "def visualize_notes(hadm_id):\n",
    "\n",
    "    # When did this patient arrive (useful for getting first 48 hours)\n",
    "    admittime = query_mimic(\"select admittime from admissions where hadm_id=\"+str(hadm_id)).admittime.values[0]\n",
    "\n",
    "    query = \"select dob, ethnicity, gender, admission_type, admission_location, diagnosis, discharge_location,\\\n",
    "        hospital_expire_flag, marital_status, religion, insurance from patients, admissions\\\n",
    "                              where patients.subject_id=admissions.subject_id and admissions.hadm_id=\" + str(hadm_id)\n",
    "    backgrounds = query_mimic(query)\n",
    "    #backgrounds['age'] = (backgrounds.dob.values[0] - admittime).total_seconds()/(3600*24*365)\n",
    "   \n",
    "    # display the demographics / admission info\n",
    "    display(backgrounds.T)\n",
    "\n",
    "    # Get the notes for this patient\n",
    "    notes_subject = query_mimic(\"select text, row_id, category, charttime from noteevents where hadm_id=\"+str(hadm_id)) \n",
    "    #notes.loc[notes.hadm_id==hadm_id]\n",
    "\n",
    "    # How many notes for each category?\n",
    "    cat_counts = Counter(notes_subject.category.values)\n",
    "    \n",
    "    # Build a list of widgets.Accordion objects that we will make into a widgets.Tabs\n",
    "    accordions = []\n",
    "    categories = []\n",
    "    for category,count in sorted(cat_counts.items(), key=lambda t:t[1], reverse=True):    \n",
    "        # Only notes for this category\n",
    "        notes_cat = notes_subject.loc[notes_subject.category==category]\n",
    "\n",
    "        # Sort by time\n",
    "        notes_cat = notes_cat.sort_values('charttime')\n",
    "\n",
    "        # Print the data in a structured output\n",
    "        titles = []\n",
    "        texts = []\n",
    "        for num,(i,row) in enumerate(notes_cat.iterrows()):\n",
    "            # Format the text with additional metadata\n",
    "            time_offset = (row.charttime - admittime).total_seconds()/3600.\n",
    "            if np.isnan(time_offset):\n",
    "                time_offset = 'n/a'\n",
    "            else:\n",
    "                time_offset = int(time_offset)\n",
    "            \n",
    "            # Only first 48 hours of data\n",
    "            text = '%s Note #%d, ID %d (%s Hours) (%s chartime)\\n\\n%s' % (category,\n",
    "                                                                          num,\n",
    "                                                                          row.row_id,\n",
    "                                                                          time_offset,\n",
    "                                                                          row.charttime,\n",
    "                                                                          row.text )\n",
    "            snippet = text[:200]\n",
    "\n",
    "            # widgets object to display the full text\n",
    "            collapsable_text = widgets.Output()\n",
    "            collapsable_text.append_stdout(row.text)\n",
    "\n",
    "            # Save the formatted data that we will feed in to the widgets.accordian\n",
    "            titles.append(snippet)\n",
    "            texts.append(collapsable_text)\n",
    "\n",
    "        # Display the data beautifully\n",
    "        accordion = widgets.Accordion(children=texts)\n",
    "        for i,title in enumerate(titles):\n",
    "            accordion.set_title(i, title)\n",
    "        accordion.selected_index = None\n",
    "    \n",
    "        # Save this object to be displayed in the widgets.Tab\n",
    "        accordions.append(accordion)\n",
    "        categories.append(category)\n",
    "    \n",
    "    # This is going to hold all the stuff!\n",
    "    tab = widgets.Tab()\n",
    "    tab.children = accordions\n",
    "    for i,category in enumerate(categories):\n",
    "        tab.set_title(i, category)\n",
    "    \n",
    "    display(tab)\n",
    "    return tab\n"
   ]
  },
  {
   "cell_type": "code",
   "execution_count": null,
   "metadata": {
    "scrolled": true
   },
   "outputs": [],
   "source": [
    "tab = visualize_notes(this_hadm_id)"
   ]
  }
 ],
 "metadata": {
  "kernelspec": {
   "display_name": "Python 3",
   "language": "python",
   "name": "python3"
  },
  "language_info": {
   "codemirror_mode": {
    "name": "ipython",
    "version": 3
   },
   "file_extension": ".py",
   "mimetype": "text/x-python",
   "name": "python",
   "nbconvert_exporter": "python",
   "pygments_lexer": "ipython3",
   "version": "3.7.3"
  }
 },
 "nbformat": 4,
 "nbformat_minor": 2
}
